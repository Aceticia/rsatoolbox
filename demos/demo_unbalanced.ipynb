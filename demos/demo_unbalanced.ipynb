{
 "cells": [
  {
   "cell_type": "markdown",
   "metadata": {},
   "source": [
    "# Demo on unbalanced designs"
   ]
  },
  {
   "cell_type": "markdown",
   "metadata": {},
   "source": [
    "In this demo we will have a look at calculating RDMs from data which either contians different numbers of measurements per stimulus or where the measurements for different stimuli do not contain the same measurement channels. Such data is common in neural recordings where individual neurons may become unmeasureable during an experiment such that we do not have measurements of all neurons for all stimuli. A common reason for different numbers of repetition for a stimulus are trials which have to be removed due to artifacts or aborted experiments or because the experimentor did not have full control over which stimuli were shown."
   ]
  },
  {
   "cell_type": "code",
   "execution_count": 2,
   "metadata": {},
   "outputs": [],
   "source": [
    "import numpy as np\n",
    "import pyrsa"
   ]
  },
  {
   "cell_type": "markdown",
   "metadata": {},
   "source": [
    "First we need some data to work on. This data is very small scale such that we can understand everything which happens. As balanced data we have two repetitions of three different stimuli, which are measured for 5 different measurement channels. "
   ]
  },
  {
   "cell_type": "code",
   "execution_count": 9,
   "metadata": {},
   "outputs": [],
   "source": [
    "data_balanced_array = np.array([\n",
    "    [0.7, 0.8, 0.9, 1.0, 1.1],\n",
    "    [0.2, 1.8, 2.9, 1.0, 1.3],\n",
    "    [2.7, 0.8, 0.2, 1.2, 1.1],\n",
    "    [1.7, 0.5, 0.9, 1.5, 1.1],\n",
    "    [1.7, 2.8, 2.2, 1.2, 1.0],\n",
    "    [1.7, 0.5, 0.4, 1.4, 0.3],\n",
    "    ])\n",
    "runs = [0, 1, 0, 1, 0, 1]\n",
    "stimulus = [0, 0, 1, 1, 2, 2]\n",
    "descriptors = {'runs': runs, 'stimulus': stimulus}\n",
    "data_balanced = pyrsa.data.Dataset(data_balanced_array, obs_descriptors=descriptors)"
   ]
  },
  {
   "cell_type": "markdown",
   "metadata": {},
   "source": [
    "For the unbalanced data, we can use similar data, but let's assume that we now measured the 0 stimulus only once and measured stimulus 1 three times. Also at two times we had to discard measurements from single channels due to technical problems:"
   ]
  },
  {
   "cell_type": "code",
   "execution_count": 10,
   "metadata": {},
   "outputs": [],
   "source": [
    "data_unbalanced_array = np.array([\n",
    "    [0.7, 0.8, 0.9, 1.0, 1.1],\n",
    "    [0.2, 1.8, np.nan, 1.0, 1.3],\n",
    "    [2.7, 0.8, 0.2, 1.2, 1.1],\n",
    "    [1.7, 0.5, 0.9, 1.5, 1.1],\n",
    "    [1.7, 2.8, 2.2, 1.2, np.nan],\n",
    "    [1.7, 0.5, 0.4, 1.4, 0.3],\n",
    "    ])\n",
    "runs = [0, 0, 1, 2, 0, 1]\n",
    "stimulus = [0, 1, 1, 1, 2, 2]\n",
    "descriptors = {'runs': runs, 'stimulus': stimulus}\n",
    "data_unbalanced = pyrsa.data.Dataset(data_unbalanced_array, obs_descriptors=descriptors)"
   ]
  },
  {
   "cell_type": "markdown",
   "metadata": {},
   "source": [
    "For the balanced data we can use the normal functions to get a RDM:"
   ]
  },
  {
   "cell_type": "code",
   "execution_count": 19,
   "metadata": {},
   "outputs": [
    {
     "name": "stdout",
     "output_type": "stream",
     "text": [
      "pyrsa.rdm.RDMs\n",
      "1 RDM(s) over 3 conditions\n",
      "\n",
      "dissimilarity_measure = \n",
      "euclidean\n",
      "\n",
      "dissimilarities[0] = \n",
      "[[0.     1.088  0.4875]\n",
      " [1.088  0.     0.4035]\n",
      " [0.4875 0.4035 0.    ]]\n",
      "\n",
      "descriptors: \n",
      "\n",
      "rdm_descriptors: \n",
      "index = [0]\n",
      "\n",
      "pattern_descriptors: \n",
      "index = [0 1 2]\n",
      "stimulus = [0, 1, 2]\n",
      "\n",
      "\n"
     ]
    }
   ],
   "source": [
    "balanced_rdm = pyrsa.rdm.calc_rdm(data_balanced, descriptor='stimulus')\n",
    "print(balanced_rdm)"
   ]
  },
  {
   "cell_type": "markdown",
   "metadata": {},
   "source": [
    "For the unbalanced data this does not work, because the missing values break the calculation. Also the different numbers of measurements are disregarded when we use the normal calc_rdm function which averages stimulus responses first:"
   ]
  },
  {
   "cell_type": "code",
   "execution_count": 15,
   "metadata": {},
   "outputs": [
    {
     "data": {
      "text/plain": [
       "pyrsa.rdm.RDMs(\n",
       "dissimilarity_measure = \n",
       "euclidean\n",
       "dissimilarities = \n",
       "[[nan nan nan]]\n",
       "descriptors = \n",
       "{}\n",
       "rdm_descriptors = \n",
       "{'index': array([0])}\n",
       "pattern_descriptors = \n",
       "{'index': array([0, 1, 2]), 'stimulus': [0, 1, 2]}"
      ]
     },
     "execution_count": 15,
     "metadata": {},
     "output_type": "execute_result"
    }
   ],
   "source": [
    "unbalanced_rdm_broken = pyrsa.rdm.calc_rdm(data_unbalanced, descriptor='stimulus')\n",
    "print(unbalanced_rdm_broken)"
   ]
  },
  {
   "cell_type": "markdown",
   "metadata": {},
   "source": [
    "instead we can use the slightly slower variant for unbalanced designs, which calculates the RDM correctly:"
   ]
  },
  {
   "cell_type": "code",
   "execution_count": 17,
   "metadata": {},
   "outputs": [
    {
     "name": "stdout",
     "output_type": "stream",
     "text": [
      "pyrsa.rdm.RDMs\n",
      "1 RDM(s) over 3 conditions\n",
      "\n",
      "dissimilarity_measure = \n",
      "euclidean\n",
      "\n",
      "dissimilarities[0] = \n",
      "[[0.         0.51142857 0.98555556]\n",
      " [0.51142857 0.         1.0868    ]\n",
      " [0.98555556 1.0868     0.        ]]\n",
      "\n",
      "descriptors: \n",
      "\n",
      "rdm_descriptors: \n",
      "index = [0]\n",
      "weights = [[14, 9, 25]]\n",
      "\n",
      "pattern_descriptors: \n",
      "index = [0 1 2]\n",
      "stimulus = {0, 1, 2}\n",
      "\n",
      "\n"
     ]
    }
   ],
   "source": [
    "unbalanced_rdm = pyrsa.rdm.calc_rdm_unbalanced(data_unbalanced, descriptor='stimulus')\n",
    "print(unbalanced_rdm)"
   ]
  },
  {
   "cell_type": "markdown",
   "metadata": {},
   "source": [
    "This RDM now contains valid values for the dissimilarities. Additionally it gained an rdm_descriptor called 'weights', which contains the weight each carried by each dissimilarity. The difference here are caused by different numbers of measurement channels and repetitions for the different stimuli."
   ]
  },
  {
   "cell_type": "markdown",
   "metadata": {},
   "source": [
    "As a sanity check we can compute the RDM based on the balanced data with this additional method to check that it results in the same RDM:"
   ]
  },
  {
   "cell_type": "code",
   "execution_count": 18,
   "metadata": {},
   "outputs": [
    {
     "name": "stdout",
     "output_type": "stream",
     "text": [
      "pyrsa.rdm.RDMs\n",
      "1 RDM(s) over 3 conditions\n",
      "\n",
      "dissimilarity_measure = \n",
      "euclidean\n",
      "\n",
      "dissimilarities[0] = \n",
      "[[0.    1.436 1.205]\n",
      " [1.436 0.    0.94 ]\n",
      " [1.205 0.94  0.   ]]\n",
      "\n",
      "descriptors: \n",
      "\n",
      "rdm_descriptors: \n",
      "index = [0]\n",
      "weights = [[20, 20, 20]]\n",
      "\n",
      "pattern_descriptors: \n",
      "index = [0 1 2]\n",
      "stimulus = {0, 1, 2}\n",
      "\n",
      "\n"
     ]
    }
   ],
   "source": [
    "sanity_rdm = pyrsa.rdm.calc_rdm_unbalanced(data_balanced, descriptor='stimulus')\n",
    "print(sanity_rdm)"
   ]
  },
  {
   "cell_type": "code",
   "execution_count": null,
   "metadata": {},
   "outputs": [],
   "source": []
  }
 ],
 "metadata": {
  "kernelspec": {
   "display_name": "Python 3",
   "language": "python",
   "name": "python3"
  },
  "language_info": {
   "codemirror_mode": {
    "name": "ipython",
    "version": 3
   },
   "file_extension": ".py",
   "mimetype": "text/x-python",
   "name": "python",
   "nbconvert_exporter": "python",
   "pygments_lexer": "ipython3",
   "version": "3.7.9"
  }
 },
 "nbformat": 4,
 "nbformat_minor": 4
}
