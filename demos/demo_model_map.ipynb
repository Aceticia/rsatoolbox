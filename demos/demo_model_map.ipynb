{
 "cells": [
  {
   "cell_type": "markdown",
   "metadata": {},
   "source": [
    "# Model-map illustration of results"
   ]
  },
  {
   "cell_type": "markdown",
   "metadata": {},
   "source": [
    "## Introduction\n",
    "\n",
    "In this demo, we illustrate the use of the model-map illustration of result objects. "
   ]
  },
  {
   "cell_type": "markdown",
   "metadata": {},
   "source": [
    "## Exercise 1: Data and RDM handling"
   ]
  },
  {
   "cell_type": "code",
   "execution_count": 1,
   "metadata": {},
   "outputs": [],
   "source": [
    "import numpy as np\n",
    "from scipy import io\n",
    "import matplotlib.pyplot as plt\n",
    "import rsatoolbox"
   ]
  },
  {
   "cell_type": "markdown",
   "metadata": {},
   "source": [
    "### Load model RDMs\n",
    "Here the models are different layers of Alexnet.\n",
    "For each layer, different models of how the fMRI voxels sample the neurons are being considered.\n",
    "\n",
    "The simulated data were generated in Matlab (Kriegeskorte & Diedrichsen 2016). Thus, we load the Matlab files in .mat format.\n",
    "\n",
    "For each model-RDM, we obtain the RDM itself, a model name, and a measurement model name. The model name specifies the layer used to generate the RDM. The measurement model name specifies the applied distortions."
   ]
  },
  {
   "cell_type": "code",
   "execution_count": 2,
   "metadata": {},
   "outputs": [],
   "source": [
    "matlab_data = io.matlab.loadmat('rdms_inferring/modelRDMs_A2020.mat')\n",
    "matlab_data = matlab_data['modelRDMs']\n",
    "n_models = len(matlab_data[0])\n",
    "model_names = [matlab_data[0][i][0][0] for i in range(n_models)]\n",
    "measurement_model = [matlab_data[0][i][1][0] for i in range(n_models)]\n",
    "rdms_array = np.array([matlab_data[0][i][3][0] for i in range(n_models)])\n",
    "model_rdms = rsatoolbox.rdm.RDMs(rdms_array,\n",
    "                            rdm_descriptors={'brain_computational_model':model_names,\n",
    "                                             'measurement_model':measurement_model},\n",
    "                            dissimilarity_measure='Euclidean'\n",
    "                           )\n",
    "matlab_data = io.matlab.loadmat('rdms_inferring/noisyModelRDMs_A2020.mat')\n",
    "repr_names_matlab = matlab_data['reprNames']\n",
    "fwhms_matlab = matlab_data['FWHMs']\n",
    "noise_std_matlab = matlab_data['relNoiseStds']\n",
    "rdms_matlab = matlab_data['noisyModelRDMs']\n",
    "repr_names = [repr_names_matlab[i][0][0] for i in range(repr_names_matlab.shape[0])]\n",
    "fwhms = fwhms_matlab.squeeze().astype('float')\n",
    "noise_std = noise_std_matlab.squeeze().astype('float')\n",
    "rdms_matrix = rdms_matlab.squeeze().astype('float')\n",
    "\n",
    "i_rep = 2 #np.random.randint(len(repr_names)) \n",
    "i_noise = 1 #np.random.randint(len(noise_std))\n",
    "i_fwhm = 0 #np.random.randint(len(fwhms))\n",
    "\n",
    "rdms_data = rsatoolbox.rdm.RDMs(rdms_matrix[:, i_rep, i_fwhm, i_noise, :].transpose())\n",
    "models = []\n",
    "for i_model in np.unique(model_names):\n",
    "    rdm_m = model_rdms.subset('brain_computational_model', i_model).subset('measurement_model','complete')\n",
    "    m = rsatoolbox.model.ModelFixed(i_model, rdm_m)\n",
    "    models.append(m)\n",
    "models_flex = []\n",
    "for i_model in np.unique(model_names):\n",
    "    models_flex.append(rsatoolbox.model.ModelSelect(i_model,\n",
    "        model_rdms.subset('brain_computational_model', i_model)))\n",
    "\n"
   ]
  },
  {
   "cell_type": "code",
   "execution_count": null,
   "metadata": {},
   "outputs": [
    {
     "name": "stderr",
     "output_type": "stream",
     "text": [
      "/Users/heiko/rsatoolbox/rsatoolbox/util/inference_util.py:146: RuntimeWarning: invalid value encountered in multiply\n",
      "  rdm_mean = np.empty((1, rdm_vector.shape[1])) * np.nan\n",
      " 25%|█████████████████████████▎                                                                           | 25/100 [00:15<00:50,  1.48it/s]"
     ]
    }
   ],
   "source": [
    "results_1 = rsatoolbox.inference.eval_fixed(models, rdms_data, method='corr')\n",
    "train_set, test_set, ceil_set = rsatoolbox.inference.sets_k_fold(rdms_data, k_pattern=3, k_rdm=2)\n",
    "results_2_cv = rsatoolbox.inference.crossval(models_flex, rdms_data, train_set, test_set,\n",
    "                                             ceil_set=ceil_set, method='corr')\n",
    "results_3_full = rsatoolbox.inference.bootstrap_crossval(models_flex, rdms_data, k_pattern=4, k_rdm=2, method='corr', N=100)\n",
    "\n"
   ]
  },
  {
   "cell_type": "code",
   "execution_count": null,
   "metadata": {
    "scrolled": false
   },
   "outputs": [],
   "source": [
    "rsatoolbox.vis.map_model_comparison(results_1, error_bars='sem')\n"
   ]
  },
  {
   "cell_type": "code",
   "execution_count": null,
   "metadata": {
    "scrolled": false
   },
   "outputs": [],
   "source": [
    "# plot results\n",
    "rsatoolbox.vis.map_model_comparison(\n",
    "    results_2_cv, rdms_data=rdms_data, test_pair_comparisons=False,\n",
    "    test_above_0=False, test_below_noise_ceil=False)"
   ]
  },
  {
   "cell_type": "code",
   "execution_count": null,
   "metadata": {
    "scrolled": false
   },
   "outputs": [],
   "source": [
    "# plot results\n",
    "rsatoolbox.vis.map_model_comparison(results_3_full, rdms_data=rdms_data, \n",
    "                                    error_bars='sem')"
   ]
  },
  {
   "cell_type": "code",
   "execution_count": null,
   "metadata": {},
   "outputs": [],
   "source": []
  }
 ],
 "metadata": {
  "kernelspec": {
   "display_name": "Python 3 (ipykernel)",
   "language": "python",
   "name": "python3"
  },
  "language_info": {
   "codemirror_mode": {
    "name": "ipython",
    "version": 3
   },
   "file_extension": ".py",
   "mimetype": "text/x-python",
   "name": "python",
   "nbconvert_exporter": "python",
   "pygments_lexer": "ipython3",
   "version": "3.8.8"
  },
  "metadata": {
   "interpreter": {
    "hash": "306733df669f86703ca68e4138a64697e4e8bd47d8228a728899ed125c5a4740"
   }
  }
 },
 "nbformat": 4,
 "nbformat_minor": 4
}
