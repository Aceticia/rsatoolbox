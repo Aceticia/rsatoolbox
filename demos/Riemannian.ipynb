{
 "cells": [
  {
   "cell_type": "code",
   "execution_count": 2,
   "id": "minus-front",
   "metadata": {},
   "outputs": [
    {
     "name": "stdout",
     "output_type": "stream",
     "text": [
      "ds\n"
     ]
    }
   ],
   "source": [
    "import os\n",
    "print (os.environ['CONDA_DEFAULT_ENV'])"
   ]
  },
  {
   "cell_type": "code",
   "execution_count": 4,
   "id": "northern-museum",
   "metadata": {},
   "outputs": [],
   "source": [
    "import numpy as np\n",
    "from numpy.testing import assert_array_almost_equal\n",
    "import rsatoolbox as rsa"
   ]
  },
  {
   "cell_type": "code",
   "execution_count": 6,
   "id": "serial-jewelry",
   "metadata": {},
   "outputs": [],
   "source": [
    "dissimilarities1 = np.random.rand(1, 15)\n",
    "des1 = {'session': 0, 'subj': 0}\n",
    "test_rdm1 = rsa.rdm.RDMs(\n",
    "    dissimilarities=dissimilarities1,\n",
    "    dissimilarity_measure='test',\n",
    "    descriptors=des1)\n",
    "dissimilarities2 = np.random.rand(3, 15)\n",
    "des2 = {'session': 0, 'subj': 0}\n",
    "test_rdm2 = rsa.rdm.RDMs(\n",
    "    dissimilarities=dissimilarities2,\n",
    "    dissimilarity_measure='test',\n",
    "    descriptors=des2\n",
    "    )\n",
    "dissimilarities3 = np.random.rand(7, 15)\n",
    "des2 = {'session': 0, 'subj': 0}\n",
    "test_rdm3 = rsa.rdm.RDMs(\n",
    "    dissimilarities=dissimilarities3,\n",
    "    dissimilarity_measure='test',\n",
    "    descriptors=des2\n",
    "    )"
   ]
  },
  {
   "cell_type": "code",
   "execution_count": 16,
   "id": "likely-seafood",
   "metadata": {},
   "outputs": [
    {
     "data": {
      "text/plain": [
       "'correlation'"
      ]
     },
     "execution_count": 16,
     "metadata": {},
     "output_type": "execute_result"
    }
   ],
   "source": [
    "test_rdm1.dissimilarity_measure"
   ]
  },
  {
   "cell_type": "code",
   "execution_count": 25,
   "id": "green-lender",
   "metadata": {},
   "outputs": [
    {
     "data": {
      "text/plain": [
       "array([[[1.        , 0.11212205, 0.01266879, 0.71274262, 0.3764538 ,\n",
       "         0.58309662],\n",
       "        [0.11212205, 1.        , 0.8083536 , 0.64477067, 0.59156317,\n",
       "         0.65175403],\n",
       "        [0.01266879, 0.8083536 , 1.        , 0.61987697, 0.08039335,\n",
       "         0.1044971 ],\n",
       "        [0.71274262, 0.64477067, 0.61987697, 1.        , 0.12031086,\n",
       "         0.57823212],\n",
       "        [0.3764538 , 0.59156317, 0.08039335, 0.12031086, 1.        ,\n",
       "         0.98162648],\n",
       "        [0.58309662, 0.65175403, 0.1044971 , 0.57823212, 0.98162648,\n",
       "         1.        ]]])"
      ]
     },
     "execution_count": 25,
     "metadata": {},
     "output_type": "execute_result"
    }
   ],
   "source": [
    "dist_matrix = test_rdm1.get_matrices()\n",
    "corr_matrix = np.ones(dist_matrix.shape)-dist_matrix\n",
    "corr_matrix"
   ]
  },
  {
   "cell_type": "code",
   "execution_count": 27,
   "id": "postal-genre",
   "metadata": {},
   "outputs": [
    {
     "data": {
      "text/plain": [
       "False"
      ]
     },
     "execution_count": 27,
     "metadata": {},
     "output_type": "execute_result"
    }
   ],
   "source": [
    "np.all([0])"
   ]
  },
  {
   "cell_type": "code",
   "execution_count": null,
   "id": "portuguese-holly",
   "metadata": {},
   "outputs": [],
   "source": []
  }
 ],
 "metadata": {
  "kernelspec": {
   "display_name": "Python 3",
   "language": "python",
   "name": "python3"
  },
  "language_info": {
   "codemirror_mode": {
    "name": "ipython",
    "version": 3
   },
   "file_extension": ".py",
   "mimetype": "text/x-python",
   "name": "python",
   "nbconvert_exporter": "python",
   "pygments_lexer": "ipython3",
   "version": "3.8.2"
  }
 },
 "nbformat": 4,
 "nbformat_minor": 5
}
