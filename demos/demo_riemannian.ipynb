{
 "cells": [
  {
   "cell_type": "code",
   "execution_count": 52,
   "id": "threaded-finish",
   "metadata": {},
   "outputs": [],
   "source": [
    "import numpy as np\n",
    "import rsatoolbox\n",
    "from rsatoolbox.util.matrix import pairwise_contrast\n",
    "from scipy.spatial.distance import squareform\n",
    "from scipy import io\n",
    "import matplotlib.pyplot as plt\n",
    "import rsatoolbox.data as rsd # abbreviation to deal with dataset\n",
    "import rsatoolbox.rdm as rsr\n",
    "from scipy import linalg\n",
    "from scipy.optimize import minimize"
   ]
  },
  {
   "cell_type": "code",
   "execution_count": 2,
   "id": "closing-cream",
   "metadata": {},
   "outputs": [
    {
     "data": {
      "text/plain": [
       "array([[1., 1., 0.],\n",
       "       [1., 0., 1.],\n",
       "       [0., 1., 1.]])"
      ]
     },
     "execution_count": 2,
     "metadata": {},
     "output_type": "execute_result"
    }
   ],
   "source": [
    "pairs = pairwise_contrast(np.arange(3))\n",
    "pairs[pairs==-1]=1\n",
    "pairs"
   ]
  },
  {
   "cell_type": "code",
   "execution_count": 3,
   "id": "japanese-filling",
   "metadata": {},
   "outputs": [
    {
     "data": {
      "text/plain": [
       "array([[0., 0., 0.],\n",
       "       [0., 0., 0.],\n",
       "       [0., 0., 0.]])"
      ]
     },
     "execution_count": 3,
     "metadata": {},
     "output_type": "execute_result"
    }
   ],
   "source": [
    "np.zeros((6-4+1,6-4+1))"
   ]
  },
  {
   "cell_type": "code",
   "execution_count": 4,
   "id": "settled-woman",
   "metadata": {},
   "outputs": [],
   "source": [
    "T = np.block([[np.eye(3),np.zeros((6-4+1,6-4+1))],[0.5*pairs,np.diag(-0.5*np.ones(3))]])"
   ]
  },
  {
   "cell_type": "code",
   "execution_count": 5,
   "id": "solved-remark",
   "metadata": {},
   "outputs": [],
   "source": [
    "vec_G = np.array([3,4,7,-1,2,-1])"
   ]
  },
  {
   "cell_type": "code",
   "execution_count": 6,
   "id": "determined-segment",
   "metadata": {},
   "outputs": [],
   "source": [
    "G = np.diag(vec_G[0:3])+squareform(vec_G[3:len(vec_G)])"
   ]
  },
  {
   "cell_type": "code",
   "execution_count": 7,
   "id": "featured-reduction",
   "metadata": {},
   "outputs": [
    {
     "data": {
      "text/plain": [
       "array([[ 3, -1,  2],\n",
       "       [-1,  4, -1],\n",
       "       [ 2, -1,  7]])"
      ]
     },
     "execution_count": 7,
     "metadata": {},
     "output_type": "execute_result"
    }
   ],
   "source": [
    "G"
   ]
  },
  {
   "cell_type": "code",
   "execution_count": 8,
   "id": "atomic-tennis",
   "metadata": {},
   "outputs": [],
   "source": [
    "# create a dataset object\n",
    "measurements = io.matlab.loadmat('92imageData/simTruePatterns.mat')\n",
    "measurements = measurements['simTruePatterns2']\n",
    "nCond = measurements.shape[0]\n",
    "nVox = measurements.shape[1]\n",
    "# now create a  dataset object\n",
    "des = {'session': 1, 'subj': 1}\n",
    "obs_des = {'conds': np.array(['cond_%02d' % x for x in np.arange(nCond)])}\n",
    "chn_des = {'voxels': np.array(['voxel_' + str(x) for x in np.arange(nVox)])}\n",
    "data = rsd.Dataset(measurements=measurements,\n",
    "                   descriptors=des,\n",
    "                   obs_descriptors=obs_des,\n",
    "                   channel_descriptors=chn_des)"
   ]
  },
  {
   "cell_type": "code",
   "execution_count": 9,
   "id": "european-lewis",
   "metadata": {},
   "outputs": [
    {
     "data": {
      "text/plain": [
       "(92, 100)"
      ]
     },
     "execution_count": 9,
     "metadata": {},
     "output_type": "execute_result"
    }
   ],
   "source": [
    "data.measurements.shape"
   ]
  },
  {
   "cell_type": "code",
   "execution_count": 10,
   "id": "outdoor-station",
   "metadata": {},
   "outputs": [
    {
     "data": {
      "text/plain": [
       "array([[1.79168033, 1.79025977, 1.76699112, ..., 1.76469464, 1.72393365,\n",
       "        1.78983719]])"
      ]
     },
     "execution_count": 10,
     "metadata": {},
     "output_type": "execute_result"
    }
   ],
   "source": [
    "RDM_euc = rsr.calc_rdm(data, descriptor='conds')\n",
    "RDM_euc.dissimilarities"
   ]
  },
  {
   "cell_type": "code",
   "execution_count": 11,
   "id": "understood-washington",
   "metadata": {},
   "outputs": [
    {
     "data": {
      "text/plain": [
       "4186"
      ]
     },
     "execution_count": 11,
     "metadata": {},
     "output_type": "execute_result"
    }
   ],
   "source": [
    "#pairs.shape\n",
    "\n",
    "4095+92-1"
   ]
  },
  {
   "cell_type": "code",
   "execution_count": 12,
   "id": "australian-influence",
   "metadata": {},
   "outputs": [
    {
     "name": "stdout",
     "output_type": "stream",
     "text": [
      "(3, 3)\n",
      "(91, 91)\n"
     ]
    }
   ],
   "source": [
    "print(pairs.shape)\n",
    "print(np.diag(-0.5*np.ones(92-1)).shape)"
   ]
  },
  {
   "cell_type": "code",
   "execution_count": 13,
   "id": "scheduled-african",
   "metadata": {},
   "outputs": [],
   "source": [
    "pairs = pairwise_contrast(np.arange(91))\n",
    "pairs[pairs==-1]=1\n",
    "pairs.shape\n",
    "T = np.block([[np.eye(92-1),np.zeros((92-1,4186-92+1))],[0.5*pairs,np.diag(-0.5*np.ones(4186-92+1))]])"
   ]
  },
  {
   "cell_type": "code",
   "execution_count": 14,
   "id": "extended-foster",
   "metadata": {},
   "outputs": [],
   "source": [
    "vec_G = RDM_euc.dissimilarities@np.transpose(T)"
   ]
  },
  {
   "cell_type": "code",
   "execution_count": 15,
   "id": "juvenile-shield",
   "metadata": {},
   "outputs": [
    {
     "data": {
      "text/plain": [
       "(1, 4186)"
      ]
     },
     "execution_count": 15,
     "metadata": {},
     "output_type": "execute_result"
    }
   ],
   "source": [
    "vec_G.shape"
   ]
  },
  {
   "cell_type": "code",
   "execution_count": 16,
   "id": "computational-journalist",
   "metadata": {},
   "outputs": [],
   "source": [
    "G = np.diag(vec_G[0,0:91])+squareform(vec_G[0,91:len(vec_G)])"
   ]
  },
  {
   "cell_type": "code",
   "execution_count": 17,
   "id": "basic-ladder",
   "metadata": {},
   "outputs": [
    {
     "data": {
      "text/plain": [
       "(2.665013649930843+0j)"
      ]
     },
     "execution_count": 17,
     "metadata": {},
     "output_type": "execute_result"
    }
   ],
   "source": [
    "np.max(linalg.eigvals(G))"
   ]
  },
  {
   "cell_type": "code",
   "execution_count": 18,
   "id": "french-render",
   "metadata": {},
   "outputs": [],
   "source": [
    "rdm=vec_G@linalg.inv(np.transpose(T))"
   ]
  },
  {
   "cell_type": "code",
   "execution_count": 19,
   "id": "great-right",
   "metadata": {},
   "outputs": [
    {
     "data": {
      "text/plain": [
       "2.886579864025407e-15"
      ]
     },
     "execution_count": 19,
     "metadata": {},
     "output_type": "execute_result"
    }
   ],
   "source": [
    "np.sum(rdm-RDM_euc.dissimilarities)"
   ]
  },
  {
   "cell_type": "code",
   "execution_count": 20,
   "id": "manual-sport",
   "metadata": {},
   "outputs": [],
   "source": [
    "matlab_data = io.matlab.loadmat('rdms_inferring/modelRDMs_A2020.mat')\n",
    "matlab_data = matlab_data['modelRDMs']\n",
    "n_models = len(matlab_data[0])\n",
    "model_names = [matlab_data[0][i][0][0] for i in range(n_models)]\n",
    "measurement_model = [matlab_data[0][i][1][0] for i in range(n_models)]\n",
    "rdms_array = np.array([matlab_data[0][i][3][0] for i in range(n_models)])"
   ]
  },
  {
   "cell_type": "code",
   "execution_count": 21,
   "id": "jewish-syndicate",
   "metadata": {},
   "outputs": [
    {
     "data": {
      "text/plain": [
       "(63, 4186)"
      ]
     },
     "execution_count": 21,
     "metadata": {},
     "output_type": "execute_result"
    }
   ],
   "source": [
    "rdms_array.shape"
   ]
  },
  {
   "cell_type": "code",
   "execution_count": 22,
   "id": "structured-principal",
   "metadata": {},
   "outputs": [],
   "source": [
    "model_rdms = rsatoolbox.rdm.RDMs(rdms_array,\n",
    "                            rdm_descriptors={'brain_computational_model':model_names,\n",
    "                                             'measurement_model':measurement_model},\n",
    "                            dissimilarity_measure='Euclidean'\n",
    "                           )"
   ]
  },
  {
   "cell_type": "code",
   "execution_count": 108,
   "id": "separated-browse",
   "metadata": {},
   "outputs": [
    {
     "data": {
      "text/plain": [
       "(63, 4186)"
      ]
     },
     "execution_count": 108,
     "metadata": {},
     "output_type": "execute_result"
    }
   ],
   "source": [
    "model_rdms.dissimilarities.shape"
   ]
  },
  {
   "cell_type": "code",
   "execution_count": 100,
   "id": "legislative-museum",
   "metadata": {},
   "outputs": [],
   "source": [
    "conv1_rdms = model_rdms.subset('brain_computational_model','conv1')\n",
    "conv2_rdms = model_rdms.subset('brain_computational_model','conv2')\n",
    "\n",
    "#fig, ax, ret_val = rsatoolbox.vis.show_rdm(conv1_rdms, rdm_descriptor='measurement_model', figsize=(10,10))"
   ]
  },
  {
   "cell_type": "code",
   "execution_count": 108,
   "metadata": {},
   "outputs": [
    {
     "data": {
      "text/plain": [
       "rsatoolbox.rdm.RDMs(\n",
       "dissimilarity_measure = \n",
       "Euclidean\n",
       "dissimilarities = \n",
       "[[1.83048064e+08 1.69640224e+08 1.40488128e+08 ... 2.10742496e+08\n",
       "  3.26697440e+08 3.42092256e+08]\n",
       " [1.83048064e+08 1.69640224e+08 1.40488128e+08 ... 2.10742496e+08\n",
       "  3.26697440e+08 3.42092256e+08]\n",
       " [2.17082656e+04 2.39821719e+04 1.27935957e+04 ... 1.72578789e+04\n",
       "  3.17397969e+04 2.80723281e+04]\n",
       " ...\n",
       " [3.04157304e+03 3.47406783e+03 3.59717928e+03 ... 4.63869692e+03\n",
       "  2.59170893e+04 1.88518028e+04]\n",
       " [1.82201945e+07 1.66813513e+07 1.79520879e+07 ... 2.53642351e+07\n",
       "  5.94480481e+07 5.92892881e+07]\n",
       " [1.80922950e+03 2.23002314e+03 3.19083742e+03 ... 3.95388337e+03\n",
       "  2.71566818e+04 1.97499778e+04]]\n",
       "descriptors = \n",
       "{}\n",
       "rdm_descriptors = \n",
       "{'brain_computational_model': ['conv2', 'conv2', 'conv2', 'conv2', 'conv2', 'conv2', 'conv2', 'conv2', 'conv2', 'conv2', 'conv2'], 'measurement_model': ['complete', 'smooth1sepFeat', 'smooth1rpwavgFeat', 'smooth2sepFeat', 'smooth2rpwavgFeat', 'smooth3sepFeat', 'smooth3rpwavgFeat', 'smooth4sepFeat', 'smooth4rpwavgFeat', 'smooth5sepFeat', 'smooth5rpwavgFeat'], 'index': [11, 12, 13, 14, 15, 16, 17, 18, 19, 20, 21]}\n",
       "pattern_descriptors = \n",
       "{'index': [0, 1, 2, 3, 4, 5, 6, 7, 8, 9, 10, 11, 12, 13, 14, 15, 16, 17, 18, 19, 20, 21, 22, 23, 24, 25, 26, 27, 28, 29, 30, 31, 32, 33, 34, 35, 36, 37, 38, 39, 40, 41, 42, 43, 44, 45, 46, 47, 48, 49, 50, 51, 52, 53, 54, 55, 56, 57, 58, 59, 60, 61, 62, 63, 64, 65, 66, 67, 68, 69, 70, 71, 72, 73, 74, 75, 76, 77, 78, 79, 80, 81, 82, 83, 84, 85, 86, 87, 88, 89, 90, 91]}"
      ]
     },
     "execution_count": 108,
     "metadata": {},
     "output_type": "execute_result"
    }
   ],
   "source": [
    "conv2_rdms"
   ]
  },
  {
   "cell_type": "code",
   "execution_count": 101,
   "id": "local-division",
   "metadata": {},
   "outputs": [
    {
     "data": {
      "text/plain": [
       "(11, 4186)"
      ]
     },
     "execution_count": 101,
     "metadata": {},
     "output_type": "execute_result"
    }
   ],
   "source": [
    "conv1_rdms.dissimilarities.shape"
   ]
  },
  {
   "cell_type": "code",
   "execution_count": 102,
   "id": "pediatric-modeling",
   "metadata": {},
   "outputs": [],
   "source": [
    "vector1 = conv1_rdms.get_vectors()\n",
    "vector2 = conv2_rdms.get_vectors()"
   ]
  },
  {
   "cell_type": "code",
   "execution_count": 103,
   "metadata": {},
   "outputs": [],
   "source": [
    "vec_G1 = vector1@np.transpose(T)\n",
    "vec_G2 = vector2@np.transpose(T)"
   ]
  },
  {
   "cell_type": "code",
   "execution_count": 104,
   "metadata": {},
   "outputs": [
    {
     "data": {
      "text/plain": [
       "4186"
      ]
     },
     "execution_count": 104,
     "metadata": {},
     "output_type": "execute_result"
    }
   ],
   "source": [
    "len(vec_G1[0])"
   ]
  },
  {
   "cell_type": "code",
   "execution_count": 105,
   "metadata": {},
   "outputs": [],
   "source": [
    "G1 = np.diag(vec_G1[0,0:91])+squareform(vec_G1[0,91:len(vec_G1[0])])\n",
    "G2 = np.diag(vec_G2[0,0:91])+squareform(vec_G2[0,91:len(vec_G2[0])])"
   ]
  },
  {
   "cell_type": "code",
   "execution_count": 82,
   "metadata": {},
   "outputs": [],
   "source": [
    "fun = lambda a: np.sqrt((np.log(linalg.eigvalsh(G1,np.exp(a)*G2))**2).sum())"
   ]
  },
  {
   "cell_type": "code",
   "execution_count": 83,
   "metadata": {},
   "outputs": [],
   "source": [
    "res = minimize(fun,0, method='Nelder-Mead')"
   ]
  },
  {
   "cell_type": "code",
   "execution_count": 85,
   "metadata": {},
   "outputs": [
    {
     "name": "stdout",
     "output_type": "stream",
     "text": [
      "[5.2206661]\n",
      "5.220808985368925\n"
     ]
    }
   ],
   "source": [
    "print(np.exp(res.x))\n",
    "a_true = 1/np.exp(-np.log(linalg.eigvalsh(G1,G2)).sum()/np.shape(G1)[0])\n",
    "print(a_true)\n"
   ]
  },
  {
   "cell_type": "code",
   "execution_count": 112,
   "metadata": {},
   "outputs": [
    {
     "data": {
      "text/plain": [
       "5.290773680152389"
      ]
     },
     "execution_count": 112,
     "metadata": {},
     "output_type": "execute_result"
    }
   ],
   "source": [
    "res.fun"
   ]
  },
  {
   "cell_type": "code",
   "execution_count": 106,
   "metadata": {},
   "outputs": [],
   "source": [
    "value = np.empty((len(vec_G1), len(vec_G2)))\n",
    "k1 = 0\n",
    "for v1 in vec_G1:\n",
    "    for v2 in vec_G2:\n",
    "        G1 = np.diag(v1[0:91])+squareform(v1[91:len(v1)])\n",
    "        G2 = np.diag(v2[0:91])+squareform(v2[91:len(v2)])\n",
    "        value[k1, k2] = np.min(linalg.eigvalsh(G1,G2))\n"
   ]
  },
  {
   "cell_type": "code",
   "execution_count": 107,
   "metadata": {},
   "outputs": [
    {
     "data": {
      "text/plain": [
       "array([ 2.31584178e+77, -1.73059806e-77,  1.01222130e-01,  0.00000000e+00,\n",
       "        0.00000000e+00,  0.00000000e+00,  0.00000000e+00,  0.00000000e+00,\n",
       "        0.00000000e+00,  0.00000000e+00,  0.00000000e+00])"
      ]
     },
     "execution_count": 107,
     "metadata": {},
     "output_type": "execute_result"
    }
   ],
   "source": [
    "value[0]"
   ]
  },
  {
   "cell_type": "code",
   "execution_count": 116,
   "metadata": {},
   "outputs": [
    {
     "data": {
      "text/plain": [
       "91"
      ]
     },
     "execution_count": 116,
     "metadata": {},
     "output_type": "execute_result"
    }
   ],
   "source": [
    "len(G1)"
   ]
  },
  {
   "cell_type": "code",
   "execution_count": 120,
   "metadata": {},
   "outputs": [],
   "source": [
    "value = np.empty((len(vec_G1), len(vec_G2)))\n",
    "k1 = 0\n",
    "for v1 in vec_G1:\n",
    "    k2 = 0\n",
    "    for v2 in vec_G2:\n",
    "        #value[k1, k2] = func(v1, v2)\n",
    "        G1 = np.diag(v1[0:91])+squareform(v1[91:len(v1)])\n",
    "        G2 = np.diag(v2[0:91])+squareform(v2[91:len(v2)])\n",
    "        #a_true = 1/np.exp(-np.log(linalg.eigvalsh(G1,G2)).sum()/np.shape(G1)[0])\n",
    "        fun = lambda a: np.sqrt((np.log(linalg.eigvalsh(np.exp(a[0])*G1+np.exp(a[1])*np.eye(len(G1)),G2))**2).sum())\n",
    "        res = minimize(fun,(0,0), method='Nelder-Mead')\n",
    "        value[k1, k2] = res.fun\n",
    "        k2 += 1\n",
    "    k1 += 1"
   ]
  },
  {
   "cell_type": "code",
   "execution_count": 121,
   "metadata": {},
   "outputs": [
    {
     "data": {
      "text/plain": [
       "array([[ 5.29077359,  5.29077359, 12.63555846,  5.95183688, 15.67259173,\n",
       "         7.02442601, 18.73029497,  8.6206581 , 20.58589213,  9.56885043,\n",
       "        20.66787861],\n",
       "       [ 5.29077359,  5.29077359, 12.63555846,  5.95183688, 15.67259173,\n",
       "         7.02442601, 18.73029497,  8.6206581 , 20.58589213,  9.56885043,\n",
       "        20.66787861],\n",
       "       [ 7.54052611,  7.54052611, 11.83517869,  7.96895331, 14.84238928,\n",
       "         6.87982048, 17.83653833, 10.81158573, 19.72774294, 10.15126533,\n",
       "        19.88771302],\n",
       "       [ 6.14584811,  6.14584811, 12.52152575,  6.22266933, 15.50504853,\n",
       "         5.94330088, 18.47283904,  8.47532308, 20.17704416,  8.84375234,\n",
       "        20.21469626],\n",
       "       [ 4.44238692,  4.44238692, 11.7415162 ,  5.43625232, 14.70090408,\n",
       "        10.34166722, 17.64715479, 12.02004047, 19.52945698, 10.19880083,\n",
       "        19.70184608],\n",
       "       [ 4.10575452,  4.10575452, 12.5679656 ,  7.39860415, 15.50551052,\n",
       "         7.44879609, 18.39778715,  8.64082244, 19.96401162,  9.28786563,\n",
       "        19.95360584],\n",
       "       [ 4.7300003 ,  4.7300003 , 11.79231919, 12.28993463, 14.7007327 ,\n",
       "         7.02431835, 17.57940714,  9.39502317, 19.39820793, 14.66891802,\n",
       "        19.56364268],\n",
       "       [10.77777262, 10.77777262, 12.72433845,  9.99862832, 15.64224836,\n",
       "         5.95244097, 18.49877936,  9.74705589, 19.92217227, 10.24388541,\n",
       "        19.84141859],\n",
       "       [ 5.06945905,  5.06945905, 12.02185031,  5.95471888, 14.90437911,\n",
       "         7.22533157, 17.70947172,  9.46786952, 19.3375043 , 18.07421675,\n",
       "        19.45423037],\n",
       "       [ 4.66667719,  4.66667719, 12.7986302 ,  5.29723146, 15.71699243,\n",
       "        10.38731144, 18.57918936, 10.39166244, 19.97662311,  8.32955528,\n",
       "        19.86711879],\n",
       "       [19.1593508 , 19.1593508 , 12.19744728, 18.572325  , 15.08198509,\n",
       "        18.27546424, 17.88808447,  9.56781776, 19.4620066 , 10.41592488,\n",
       "        19.52555443]])"
      ]
     },
     "execution_count": 121,
     "metadata": {},
     "output_type": "execute_result"
    }
   ],
   "source": [
    "value"
   ]
  },
  {
   "cell_type": "code",
   "execution_count": null,
   "metadata": {},
   "outputs": [],
   "source": []
  }
 ],
 "metadata": {
  "interpreter": {
   "hash": "ff2c22bd61105ff38ccfd36912b551eb28426e123d068845c28f57c7d40ce93e"
  },
  "kernelspec": {
   "display_name": "Python 3.9.6 64-bit ('ds': conda)",
   "name": "python3"
  },
  "language_info": {
   "codemirror_mode": {
    "name": "ipython",
    "version": 3
   },
   "file_extension": ".py",
   "mimetype": "text/x-python",
   "name": "python",
   "nbconvert_exporter": "python",
   "pygments_lexer": "ipython3",
   "version": "3.9.6"
  }
 },
 "nbformat": 4,
 "nbformat_minor": 5
}
