{
 "cells": [
  {
   "cell_type": "code",
   "execution_count": 1,
   "id": "threaded-finish",
   "metadata": {},
   "outputs": [],
   "source": [
    "import numpy as np\n",
    "import rsatoolbox\n",
    "from rsatoolbox.util.matrix import pairwise_contrast\n",
    "from scipy.spatial.distance import squareform\n",
    "from scipy import io\n",
    "import matplotlib.pyplot as plt\n",
    "import rsatoolbox.data as rsd # abbreviation to deal with dataset\n",
    "import rsatoolbox.rdm as rsr\n",
    "from scipy import linalg\n",
    "from scipy.optimize import minimize"
   ]
  },
  {
   "cell_type": "code",
   "execution_count": 2,
   "id": "manual-sport",
   "metadata": {},
   "outputs": [],
   "source": [
    "matlab_data = io.matlab.loadmat('rdms_inferring/modelRDMs_A2020.mat')\n",
    "matlab_data = matlab_data['modelRDMs']\n",
    "n_models = len(matlab_data[0])\n",
    "model_names = [matlab_data[0][i][0][0] for i in range(n_models)]\n",
    "measurement_model = [matlab_data[0][i][1][0] for i in range(n_models)]\n",
    "rdms_array = np.array([matlab_data[0][i][3][0] for i in range(n_models)])"
   ]
  },
  {
   "cell_type": "code",
   "execution_count": 3,
   "id": "structured-principal",
   "metadata": {},
   "outputs": [],
   "source": [
    "model_rdms = rsatoolbox.rdm.RDMs(rdms_array,\n",
    "                            rdm_descriptors={'brain_computational_model':model_names,\n",
    "                                             'measurement_model':measurement_model},\n",
    "                            dissimilarity_measure='Euclidean'\n",
    "                           )"
   ]
  },
  {
   "cell_type": "code",
   "execution_count": 4,
   "id": "legislative-museum",
   "metadata": {},
   "outputs": [],
   "source": [
    "conv1_rdms = model_rdms.subset('brain_computational_model','conv1')\n",
    "conv2_rdms = model_rdms.subset('brain_computational_model','conv2')\n",
    "\n",
    "#fig, ax, ret_val = rsatoolbox.vis.show_rdm(conv1_rdms, rdm_descriptor='measurement_model', figsize=(10,10))\n",
    "\n",
    "# fun = lambda a: np.sqrt((np.log(linalg.eigvalsh(G1,np.exp(a)*G2))**2).sum())\n",
    "# res = minimize(fun,0, method='Nelder-Mead')\n",
    "# print(np.exp(res.x))\n",
    "# a_true = 1/np.exp(-np.log(linalg.eigvalsh(G1,G2)).sum()/np.shape(G1)[0])\n",
    "# print(a_true)"
   ]
  },
  {
   "cell_type": "code",
   "execution_count": 5,
   "id": "innovative-surge",
   "metadata": {},
   "outputs": [
    {
     "data": {
      "text/plain": [
       "array([[ -5.29077358,  -5.29077358, -12.48253241,  -5.95183687,\n",
       "        -15.54650504,  -7.02442599, -18.63635051,  -8.57225592,\n",
       "        -20.52670263,  -9.56885039, -20.64563679],\n",
       "       [ -5.29077358,  -5.29077358, -12.48253241,  -5.95183687,\n",
       "        -15.54650504,  -7.02442599, -18.63635051,  -8.57225592,\n",
       "        -20.52670263,  -9.56885039, -20.64563679],\n",
       "       [ -7.5405261 ,  -7.5405261 , -11.7115164 ,  -7.9689533 ,\n",
       "        -14.74732561,  -6.66911713, -17.76071642, -10.81158568,\n",
       "        -19.65489441, -10.00766225, -19.84732991],\n",
       "       [ -6.14584811,  -6.14584811, -12.35146284,  -6.22266933,\n",
       "        -15.37499761,  -5.82263301, -18.38164137,  -8.47532304,\n",
       "        -20.1183636 ,  -8.78776809, -20.19136719],\n",
       "       [ -3.88327006,  -3.88327006, -11.58817239,  -5.06792724,\n",
       "        -14.58482609, -10.34166719, -17.55287014, -12.02004041,\n",
       "        -19.43189912, -10.00718442, -19.64251833],\n",
       "       [ -3.56096765,  -3.56096765, -12.33371107,  -7.39860414,\n",
       "        -15.32874876,  -7.44879608, -18.27415885,  -8.64082239,\n",
       "        -19.87968397,  -9.28786555, -19.91376199],\n",
       "       [ -4.01978179,  -4.01978179, -11.58059733, -12.2899346 ,\n",
       "        -14.5396603 ,  -6.66950447, -17.44763958,  -9.11807837,\n",
       "        -19.26092385, -14.66891791, -19.47313212],\n",
       "       [-10.77777261, -10.77777261, -12.4062902 ,  -9.99862831,\n",
       "        -15.39805577,  -5.67322947, -18.32534103,  -9.74705583,\n",
       "        -19.80285601, -10.24388533, -19.78189247],\n",
       "       [ -4.20617928,  -4.20617928, -11.73831112,  -5.36003164,\n",
       "        -14.68550141,  -6.79263548, -17.53403918,  -9.13665797,\n",
       "        -19.16570064, -18.07421667, -19.33765459],\n",
       "       [ -3.8993202 ,  -3.8993202 , -12.44579461,  -4.80811511,\n",
       "        -15.44335758, -10.38731141, -18.38268914, -10.39166238,\n",
       "        -19.8422865 ,  -8.16460007, -19.79991942],\n",
       "       [-19.15935075, -19.15935075, -11.82600826, -18.57232491,\n",
       "        -14.78232166, -18.27546408, -17.63360959,  -9.15161291,\n",
       "        -19.20649228, -10.03084547, -19.34037857]])"
      ]
     },
     "execution_count": 5,
     "metadata": {},
     "output_type": "execute_result"
    }
   ],
   "source": [
    "rsatoolbox.rdm.compare_neg_riemannian_distance(conv1_rdms,conv2_rdms)"
   ]
  },
  {
   "cell_type": "code",
   "execution_count": 2,
   "id": "mediterranean-school",
   "metadata": {
    "pycharm": {
     "name": "#%%\n"
    }
   },
   "outputs": [],
   "source": [
    "import rsatoolbox\n",
    "\n",
    "\n"
   ]
  },
  {
   "cell_type": "code",
   "execution_count": 1,
   "id": "a6125bb8",
   "metadata": {
    "collapsed": false,
    "pycharm": {
     "name": "#%%\n"
    }
   },
   "outputs": [
    {
     "name": "stdout",
     "output_type": "stream",
     "text": [
      "Help on function compare_positive_riemannian_distance in module rsatoolbox.rdm.compare:\n",
      "\n",
      "compare_positive_riemannian_distance(rdm1, rdm2, sigma_k=None)\n",
      "    calculates the negative Riemannian distance between two RDMs objects.\n",
      "    \n",
      "    Args:\n",
      "        rdm1 (rsatoolbox.rdm.RDMs):\n",
      "            first set of RDMs\n",
      "        rdm2 (rsatoolbox.rdm.RDMs):\n",
      "            second set of RDMs\n",
      "    Returns:\n",
      "        numpy.ndarray: dist:\n",
      "            negative Riemannian distance between the two RDMs\n",
      "\n"
     ]
    }
   ],
   "source": [
    "import rsatoolbox\n",
    "help(rsatoolbox.rdm.compare_positive_riemannian_distance)\n"
   ]
  },
  {
   "cell_type": "code",
   "execution_count": null,
   "id": "52a96892",
   "metadata": {},
   "outputs": [],
   "source": []
  }
 ],
 "metadata": {
  "interpreter": {
   "hash": "ff2c22bd61105ff38ccfd36912b551eb28426e123d068845c28f57c7d40ce93e"
  },
  "kernelspec": {
   "display_name": "PyCharm (rsatoolbox)",
   "language": "python",
   "name": "python3"
  },
  "language_info": {
   "codemirror_mode": {
    "name": "ipython",
    "version": 3
   },
   "file_extension": ".py",
   "mimetype": "text/x-python",
   "name": "python",
   "nbconvert_exporter": "python",
   "pygments_lexer": "ipython3",
   "version": "3.9.7"
  }
 },
 "nbformat": 4,
 "nbformat_minor": 5
}
