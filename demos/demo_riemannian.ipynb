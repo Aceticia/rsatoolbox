{
 "cells": [
  {
   "cell_type": "code",
   "execution_count": 5,
   "id": "threaded-finish",
   "metadata": {},
   "outputs": [],
   "source": [
    "import numpy as np\n",
    "import rsatoolbox\n",
    "from rsatoolbox.util.matrix import pairwise_contrast\n",
    "from scipy.spatial.distance import squareform\n",
    "from scipy import io\n",
    "import matplotlib.pyplot as plt\n",
    "import rsatoolbox.data as rsd # abbreviation to deal with dataset\n",
    "import rsatoolbox.rdm as rsr\n",
    "from scipy import linalg\n",
    "from scipy.optimize import minimize"
   ]
  },
  {
   "cell_type": "code",
   "execution_count": 8,
   "id": "manual-sport",
   "metadata": {},
   "outputs": [],
   "source": [
    "matlab_data = io.matlab.loadmat('rdms_inferring/modelRDMs_A2020.mat')\n",
    "matlab_data = matlab_data['modelRDMs']\n",
    "n_models = len(matlab_data[0])\n",
    "model_names = [matlab_data[0][i][0][0] for i in range(n_models)]\n",
    "measurement_model = [matlab_data[0][i][1][0] for i in range(n_models)]\n",
    "rdms_array = np.array([matlab_data[0][i][3][0] for i in range(n_models)])"
   ]
  },
  {
   "cell_type": "code",
   "execution_count": 9,
   "id": "structured-principal",
   "metadata": {},
   "outputs": [],
   "source": [
    "model_rdms = rsatoolbox.rdm.RDMs(rdms_array,\n",
    "                            rdm_descriptors={'brain_computational_model':model_names,\n",
    "                                             'measurement_model':measurement_model},\n",
    "                            dissimilarity_measure='Euclidean'\n",
    "                           )"
   ]
  },
  {
   "cell_type": "code",
   "execution_count": 10,
   "id": "legislative-museum",
   "metadata": {},
   "outputs": [],
   "source": [
    "conv1_rdms = model_rdms.subset('brain_computational_model','conv1')\n",
    "conv2_rdms = model_rdms.subset('brain_computational_model','conv2')\n",
    "\n",
    "#fig, ax, ret_val = rsatoolbox.vis.show_rdm(conv1_rdms, rdm_descriptor='measurement_model', figsize=(10,10))\n",
    "\n",
    "# fun = lambda a: np.sqrt((np.log(linalg.eigvalsh(G1,np.exp(a)*G2))**2).sum())\n",
    "# res = minimize(fun,0, method='Nelder-Mead')\n",
    "# print(np.exp(res.x))\n",
    "# a_true = 1/np.exp(-np.log(linalg.eigvalsh(G1,G2)).sum()/np.shape(G1)[0])\n",
    "# print(a_true)"
   ]
  },
  {
   "cell_type": "code",
   "execution_count": 1,
   "id": "greek-condition",
   "metadata": {},
   "outputs": [
    {
     "name": "stdout",
     "output_type": "stream",
     "text": [
      ":/Users/mahdiyarshahbazi/Documents/GitHub/rsatoolbox\r\n"
     ]
    }
   ],
   "source": [
    "!echo $PYTHONPATH"
   ]
  },
  {
   "cell_type": "code",
   "execution_count": 12,
   "id": "innovative-surge",
   "metadata": {},
   "outputs": [
    {
     "ename": "AttributeError",
     "evalue": "module 'rsatoolbox.rdm' has no attribute 'compare_neg_riemannian_distance'",
     "output_type": "error",
     "traceback": [
      "\u001b[0;31m---------------------------------------------------------------------------\u001b[0m",
      "\u001b[0;31mAttributeError\u001b[0m                            Traceback (most recent call last)",
      "\u001b[0;32m<ipython-input-12-cd96b57a3560>\u001b[0m in \u001b[0;36m<module>\u001b[0;34m\u001b[0m\n\u001b[0;32m----> 1\u001b[0;31m \u001b[0mrsatoolbox\u001b[0m\u001b[0;34m.\u001b[0m\u001b[0mrdm\u001b[0m\u001b[0;34m.\u001b[0m\u001b[0mcompare_neg_riemannian_distance\u001b[0m\u001b[0;34m(\u001b[0m\u001b[0mconv1_rdms\u001b[0m\u001b[0;34m,\u001b[0m\u001b[0mconv2_rdms\u001b[0m\u001b[0;34m)\u001b[0m\u001b[0;34m\u001b[0m\u001b[0;34m\u001b[0m\u001b[0m\n\u001b[0m",
      "\u001b[0;31mAttributeError\u001b[0m: module 'rsatoolbox.rdm' has no attribute 'compare_neg_riemannian_distance'"
     ]
    }
   ],
   "source": [
    "rsatoolbox.rdm.compare_neg_riemannian_distance(conv1_rdms,conv2_rdms)"
   ]
  },
  {
   "cell_type": "code",
   "execution_count": null,
   "id": "mediterranean-school",
   "metadata": {},
   "outputs": [],
   "source": []
  }
 ],
 "metadata": {
  "interpreter": {
   "hash": "ff2c22bd61105ff38ccfd36912b551eb28426e123d068845c28f57c7d40ce93e"
  },
  "kernelspec": {
   "display_name": "Python 3",
   "language": "python",
   "name": "python3"
  },
  "language_info": {
   "codemirror_mode": {
    "name": "ipython",
    "version": 3
   },
   "file_extension": ".py",
   "mimetype": "text/x-python",
   "name": "python",
   "nbconvert_exporter": "python",
   "pygments_lexer": "ipython3",
   "version": "3.8.2"
  }
 },
 "nbformat": 4,
 "nbformat_minor": 5
}
